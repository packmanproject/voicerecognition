{
 "cells": [
  {
   "cell_type": "code",
   "execution_count": 1,
   "metadata": {},
   "outputs": [
    {
     "data": {
      "text/html": [
       "<script>requirejs.config({paths: { 'plotly': ['https://cdn.plot.ly/plotly-latest.min']},});if(!window.Plotly) {{require(['plotly'],function(plotly) {window.Plotly=plotly;});}}</script>"
      ],
      "text/vnd.plotly.v1+html": [
       "<script>requirejs.config({paths: { 'plotly': ['https://cdn.plot.ly/plotly-latest.min']},});if(!window.Plotly) {{require(['plotly'],function(plotly) {window.Plotly=plotly;});}}</script>"
      ]
     },
     "metadata": {},
     "output_type": "display_data"
    }
   ],
   "source": [
    "from IPython.display import Audio\n",
    "import numpy as np\n",
    "import scipy.io.wavfile\n",
    "import pandas as pd\n",
    "\n",
    "\n",
    "from scipy.fftpack import fft\n",
    "from scipy import signal\n",
    "from sklearn.decomposition import PCA\n",
    "import matplotlib.pyplot as plt\n",
    "import seaborn as sns\n",
    "\n",
    "import plotly.offline as py\n",
    "py.init_notebook_mode(connected=True)\n",
    "import plotly.graph_objs as go\n",
    "import plotly.tools as tls\n",
    "\n",
    "from glob import glob\n",
    "from os.path import join, abspath\n",
    "from os import listdir, getcwd\n",
    "\n",
    "import librosa\n",
    "from audiolazy import *\n",
    "%matplotlib inline"
   ]
  },
  {
   "cell_type": "markdown",
   "metadata": {},
   "source": [
    "## MCC"
   ]
  },
  {
   "cell_type": "code",
   "execution_count": 16,
   "metadata": {},
   "outputs": [
    {
     "name": "stderr",
     "output_type": "stream",
     "text": [
      "/usr/local/lib/python2.7/dist-packages/ipykernel/__main__.py:23: SettingWithCopyWarning:\n",
      "\n",
      "\n",
      "A value is trying to be set on a copy of a slice from a DataFrame\n",
      "\n",
      "See the caveats in the documentation: http://pandas.pydata.org/pandas-docs/stable/indexing.html#indexing-view-versus-copy\n",
      "\n",
      "/usr/local/lib/python2.7/dist-packages/ipykernel/__main__.py:24: SettingWithCopyWarning:\n",
      "\n",
      "\n",
      "A value is trying to be set on a copy of a slice from a DataFrame\n",
      "\n",
      "See the caveats in the documentation: http://pandas.pydata.org/pandas-docs/stable/indexing.html#indexing-view-versus-copy\n",
      "\n"
     ]
    },
    {
     "data": {
      "text/html": [
       "<div>\n",
       "<table border=\"1\" class=\"dataframe\">\n",
       "  <thead>\n",
       "    <tr style=\"text-align: right;\">\n",
       "      <th></th>\n",
       "      <th>0</th>\n",
       "      <th>1</th>\n",
       "      <th>2</th>\n",
       "      <th>3</th>\n",
       "      <th>4</th>\n",
       "      <th>5</th>\n",
       "      <th>6</th>\n",
       "      <th>7</th>\n",
       "      <th>8</th>\n",
       "      <th>9</th>\n",
       "      <th>...</th>\n",
       "      <th>11</th>\n",
       "      <th>12</th>\n",
       "      <th>13</th>\n",
       "      <th>14</th>\n",
       "      <th>15</th>\n",
       "      <th>16</th>\n",
       "      <th>17</th>\n",
       "      <th>18</th>\n",
       "      <th>19</th>\n",
       "      <th>class</th>\n",
       "    </tr>\n",
       "  </thead>\n",
       "  <tbody>\n",
       "    <tr>\n",
       "      <th>0</th>\n",
       "      <td>-795.432218</td>\n",
       "      <td>35.970238</td>\n",
       "      <td>-14.833815</td>\n",
       "      <td>28.815805</td>\n",
       "      <td>-14.721906</td>\n",
       "      <td>19.036209</td>\n",
       "      <td>5.313501</td>\n",
       "      <td>-35.151647</td>\n",
       "      <td>18.840924</td>\n",
       "      <td>-12.992666</td>\n",
       "      <td>...</td>\n",
       "      <td>28.161885</td>\n",
       "      <td>11.770693</td>\n",
       "      <td>-11.489983</td>\n",
       "      <td>-1.369369</td>\n",
       "      <td>-1.984072</td>\n",
       "      <td>9.970393</td>\n",
       "      <td>4.283526</td>\n",
       "      <td>-16.480585</td>\n",
       "      <td>-2.714869</td>\n",
       "      <td>OK</td>\n",
       "    </tr>\n",
       "    <tr>\n",
       "      <th>1</th>\n",
       "      <td>-814.875798</td>\n",
       "      <td>40.621469</td>\n",
       "      <td>-5.892730</td>\n",
       "      <td>19.256439</td>\n",
       "      <td>-11.342942</td>\n",
       "      <td>11.233098</td>\n",
       "      <td>2.637898</td>\n",
       "      <td>-27.200744</td>\n",
       "      <td>15.790923</td>\n",
       "      <td>-7.561739</td>\n",
       "      <td>...</td>\n",
       "      <td>20.706727</td>\n",
       "      <td>6.931099</td>\n",
       "      <td>-11.994173</td>\n",
       "      <td>-1.529951</td>\n",
       "      <td>-7.573341</td>\n",
       "      <td>4.184928</td>\n",
       "      <td>2.319815</td>\n",
       "      <td>-15.768163</td>\n",
       "      <td>-2.221081</td>\n",
       "      <td>OK</td>\n",
       "    </tr>\n",
       "    <tr>\n",
       "      <th>2</th>\n",
       "      <td>-852.077196</td>\n",
       "      <td>50.657204</td>\n",
       "      <td>12.393577</td>\n",
       "      <td>2.044998</td>\n",
       "      <td>4.737755</td>\n",
       "      <td>-3.952396</td>\n",
       "      <td>-11.259450</td>\n",
       "      <td>-3.961865</td>\n",
       "      <td>2.754834</td>\n",
       "      <td>-2.441120</td>\n",
       "      <td>...</td>\n",
       "      <td>-0.500637</td>\n",
       "      <td>3.492281</td>\n",
       "      <td>-2.607305</td>\n",
       "      <td>-7.972123</td>\n",
       "      <td>-5.364679</td>\n",
       "      <td>-2.198916</td>\n",
       "      <td>-3.158557</td>\n",
       "      <td>-4.289786</td>\n",
       "      <td>-3.611337</td>\n",
       "      <td>No</td>\n",
       "    </tr>\n",
       "    <tr>\n",
       "      <th>3</th>\n",
       "      <td>-847.212185</td>\n",
       "      <td>59.087908</td>\n",
       "      <td>21.051456</td>\n",
       "      <td>5.326199</td>\n",
       "      <td>0.842524</td>\n",
       "      <td>-11.764843</td>\n",
       "      <td>-18.949588</td>\n",
       "      <td>-9.338782</td>\n",
       "      <td>0.071845</td>\n",
       "      <td>-2.784443</td>\n",
       "      <td>...</td>\n",
       "      <td>-4.204624</td>\n",
       "      <td>-1.599677</td>\n",
       "      <td>-2.957116</td>\n",
       "      <td>-4.343794</td>\n",
       "      <td>-3.779825</td>\n",
       "      <td>-2.291657</td>\n",
       "      <td>-0.514011</td>\n",
       "      <td>-0.101787</td>\n",
       "      <td>-2.374789</td>\n",
       "      <td>No</td>\n",
       "    </tr>\n",
       "    <tr>\n",
       "      <th>4</th>\n",
       "      <td>-843.667844</td>\n",
       "      <td>61.742911</td>\n",
       "      <td>20.260771</td>\n",
       "      <td>3.522590</td>\n",
       "      <td>-0.747694</td>\n",
       "      <td>-11.665991</td>\n",
       "      <td>-15.886241</td>\n",
       "      <td>-6.715947</td>\n",
       "      <td>-2.189572</td>\n",
       "      <td>-8.579350</td>\n",
       "      <td>...</td>\n",
       "      <td>-5.857458</td>\n",
       "      <td>-1.240237</td>\n",
       "      <td>-2.747688</td>\n",
       "      <td>-4.855525</td>\n",
       "      <td>-3.592778</td>\n",
       "      <td>-1.793900</td>\n",
       "      <td>-2.024740</td>\n",
       "      <td>-2.532650</td>\n",
       "      <td>-1.937836</td>\n",
       "      <td>None</td>\n",
       "    </tr>\n",
       "  </tbody>\n",
       "</table>\n",
       "<p>5 rows × 21 columns</p>\n",
       "</div>"
      ],
      "text/plain": [
       "            0          1          2          3          4          5  \\\n",
       "0 -795.432218  35.970238 -14.833815  28.815805 -14.721906  19.036209   \n",
       "1 -814.875798  40.621469  -5.892730  19.256439 -11.342942  11.233098   \n",
       "2 -852.077196  50.657204  12.393577   2.044998   4.737755  -3.952396   \n",
       "3 -847.212185  59.087908  21.051456   5.326199   0.842524 -11.764843   \n",
       "4 -843.667844  61.742911  20.260771   3.522590  -0.747694 -11.665991   \n",
       "\n",
       "           6          7          8          9  ...           11         12  \\\n",
       "0   5.313501 -35.151647  18.840924 -12.992666  ...    28.161885  11.770693   \n",
       "1   2.637898 -27.200744  15.790923  -7.561739  ...    20.706727   6.931099   \n",
       "2 -11.259450  -3.961865   2.754834  -2.441120  ...    -0.500637   3.492281   \n",
       "3 -18.949588  -9.338782   0.071845  -2.784443  ...    -4.204624  -1.599677   \n",
       "4 -15.886241  -6.715947  -2.189572  -8.579350  ...    -5.857458  -1.240237   \n",
       "\n",
       "          13        14        15        16        17         18        19  \\\n",
       "0 -11.489983 -1.369369 -1.984072  9.970393  4.283526 -16.480585 -2.714869   \n",
       "1 -11.994173 -1.529951 -7.573341  4.184928  2.319815 -15.768163 -2.221081   \n",
       "2  -2.607305 -7.972123 -5.364679 -2.198916 -3.158557  -4.289786 -3.611337   \n",
       "3  -2.957116 -4.343794 -3.779825 -2.291657 -0.514011  -0.101787 -2.374789   \n",
       "4  -2.747688 -4.855525 -3.592778 -1.793900 -2.024740  -2.532650 -1.937836   \n",
       "\n",
       "   class  \n",
       "0     OK  \n",
       "1     OK  \n",
       "2     No  \n",
       "3     No  \n",
       "4   None  \n",
       "\n",
       "[5 rows x 21 columns]"
      ]
     },
     "execution_count": 16,
     "metadata": {},
     "output_type": "execute_result"
    }
   ],
   "source": [
    "dir_path = 'data/'\n",
    "full_path = join(abspath(getcwd()),dir_path, \"*.wav\")\n",
    "\n",
    "n_mfcc=20\n",
    "n_data=len(glob(full_path))\n",
    "ukuran=np.zeros(shape=(n_data,n_mfcc))\n",
    "#ukuran=np.empty(shape=[n_data,n_mfcc])\n",
    "ukuran=pd.DataFrame(ukuran)\n",
    "for file_name in glob(full_path):\n",
    "    sample_rate, samples = scipy.io.wavfile.read(file_name)\n",
    "    #print sample_rate\n",
    "    samples=samples[0:int(3.5 * sample_rate)]\n",
    "    \n",
    "    S = librosa.feature.melspectrogram(samples, sr=sample_rate, n_mels=128)\n",
    "    log_S = librosa.power_to_db(S, ref=np.max)\n",
    "    mfcc = librosa.feature.mfcc(S=log_S, n_mfcc=n_mfcc)\n",
    "    for j in range(n_mfcc):\n",
    "        for i in range(n_mfcc):\n",
    "            #print np.mean(mfcc[j][i])\n",
    "            ukuran[j][i]=np.mean(mfcc[j][i])\n",
    "\n",
    "ukuran['class']=None\n",
    "ukuran['class'][:2]='OK'\n",
    "ukuran['class'][2:4]='No'\n",
    "ukuran"
   ]
  },
  {
   "cell_type": "markdown",
   "metadata": {},
   "source": [
    "### JANGAN LUPA GAMBAR SPEKTRUM PER VOICE"
   ]
  },
  {
   "cell_type": "code",
   "execution_count": 17,
   "metadata": {},
   "outputs": [
    {
     "name": "stdout",
     "output_type": "stream",
     "text": [
      "[ -1.   -21.03  -7.66 ...,  10.01   3.34  -0.54]\n",
      "[ 1153.      79.59    41.94 ...,  -136.94   -57.34  -104.28]\n",
      "[ 1153.      79.59    41.94 ...,  -136.94   -57.34  -104.28]\n",
      "[ 1153.      79.59    41.94 ...,  -136.94   -57.34  -104.28]\n",
      "[ 1153.      79.59    41.94 ...,  -136.94   -57.34  -104.28]\n"
     ]
    }
   ],
   "source": [
    "pre_emphasis = 0.97\n",
    "for file_name in glob(full_path):\n",
    "    sample_rate, samples = scipy.io.wavfile.read(file_name)\n",
    "    #print sample_rate\n",
    "    samples=samples[0:int(3.5 * sample_rate)]\n",
    "    emphasized_signal = np.append(samples[0], samples[1:] - pre_emphasis * samples[:-1])\n",
    "    \n",
    "    print emphasized_signal"
   ]
  },
  {
   "cell_type": "markdown",
   "metadata": {},
   "source": [
    "#### JIKA MENGAMBIL SATU SUARA "
   ]
  },
  {
   "cell_type": "code",
   "execution_count": 25,
   "metadata": {},
   "outputs": [
    {
     "name": "stdout",
     "output_type": "stream",
     "text": [
      "[[  1.15300000e+03   7.95900000e+01   4.19400000e+01 ...,  -7.27700000e+01\n",
      "   -8.22700000e+01  -4.20100000e+01]\n",
      " [ -6.56700000e+01   1.88100000e+01   2.99000000e+01 ...,   6.87000000e+01\n",
      "   -1.83200000e+01  -1.42010000e+02]\n",
      " [ -3.91400000e+01  -7.96500000e+01   1.26400000e+01 ...,  -4.61500000e+01\n",
      "    1.79300000e+01  -1.15010000e+02]\n",
      " ..., \n",
      " [ -3.43600000e+01  -1.72000000e+01  -8.50000000e+00 ...,  -7.80500000e+01\n",
      "   -5.34600000e+01  -4.40900000e+01]\n",
      " [ -5.27400000e+01  -1.14850000e+02  -1.33880000e+02 ...,   2.26700000e+01\n",
      "   -1.77300000e+01   6.40000000e-01]\n",
      " [ -6.79400000e+01   1.81900000e+01  -1.80700000e+01 ...,   9.16300000e+01\n",
      "    5.60700000e+01   3.93100000e+01]]\n",
      "[ 1153  1198  1204 ..., -1978 -1976 -2021]\n"
     ]
    }
   ],
   "source": [
    "frame_size = 0.025\n",
    "frame_stride = 0.01\n",
    "\n",
    "frame_length, frame_step = frame_size * sample_rate, frame_stride * sample_rate  # Convert from seconds to samples\n",
    "signal_length = len(emphasized_signal)\n",
    "frame_length = int(round(frame_length))\n",
    "frame_step = int(round(frame_step))\n",
    "num_frames = int(np.ceil(float(np.abs(signal_length - frame_length)) / frame_step))  # Make sure that we have at least 1 frame\n",
    "\n",
    "pad_signal_length = num_frames * frame_step + frame_length\n",
    "z = np.zeros((pad_signal_length - signal_length))\n",
    "pad_signal = np.append(emphasized_signal, z) # Pad Signal to make sure that all frames have equal number of samples without truncating any samples from the original signal\n",
    "\n",
    "indices = np.tile(np.arange(0, frame_length), (num_frames, 1)) + np.tile(np.arange(0, num_frames * frame_step, frame_step), (frame_length, 1)).T\n",
    "frames = pad_signal[indices.astype(np.int32, copy=False)]\n",
    "print frames\n",
    "print samples"
   ]
  },
  {
   "cell_type": "code",
   "execution_count": 27,
   "metadata": {},
   "outputs": [
    {
     "name": "stdout",
     "output_type": "stream",
     "text": [
      "348\n"
     ]
    }
   ],
   "source": [
    "frames *= np.hamming(frame_length)\n",
    "print len(frames)"
   ]
  },
  {
   "cell_type": "code",
   "execution_count": 29,
   "metadata": {},
   "outputs": [
    {
     "name": "stdout",
     "output_type": "stream",
     "text": [
      "[[  2.36371525e+03   1.88606715e+03   2.04603096e+03 ...,   1.41161804e+02\n",
      "    7.60530471e+01   1.46778981e+01]\n",
      " [  2.55187999e+03   2.12438165e+03   1.04336007e+03 ...,   1.25775396e+02\n",
      "    2.47734946e+02   1.94409125e+02]\n",
      " [  2.28151709e+03   2.92930735e+03   4.23113419e+03 ...,   3.55166119e+02\n",
      "    3.92406292e+02   4.28075754e+02]\n",
      " ..., \n",
      " [  1.89143269e+04   1.21750321e+04   5.25091944e+03 ...,   2.77052084e+02\n",
      "    2.77205857e+02   2.61912241e+02]\n",
      " [  9.59301684e+03   4.63939729e+03   1.81750748e+03 ...,   2.65544477e+02\n",
      "    2.24012685e+02   1.99426817e+02]\n",
      " [  1.54334653e+03   1.24045216e+03   8.28063274e+01 ...,   2.46156759e+02\n",
      "    3.96156707e+02   3.95135586e+02]]\n",
      "[[  1.09124019e+04   6.94775253e+03   8.17625526e+03 ...,   3.89192480e+01\n",
      "    1.12970039e+01   4.20782602e-01]\n",
      " [  1.27189287e+04   8.81444805e+03   2.12617235e+03 ...,   3.08973636e+01\n",
      "    1.19868367e+02   7.38181795e+01]\n",
      " [  1.01666411e+04   1.67594561e+04   3.49658135e+04 ...,   2.46372993e+02\n",
      "    3.00747457e+02   3.57907913e+02]\n",
      " ..., \n",
      " [  6.98733907e+05   2.89514468e+05   5.38518652e+04 ...,   1.49917690e+02\n",
      "    1.50084154e+02   1.33980511e+02]\n",
      " [  1.79738227e+05   4.20390765e+04   6.45182313e+03 ...,   1.37722401e+02\n",
      "    9.80110998e+01   7.76778425e+01]\n",
      " [  4.65218460e+03   3.00531557e+03   1.33923591e+01 ...,   1.18345996e+02\n",
      "    3.06523703e+02   3.04945569e+02]]\n"
     ]
    }
   ],
   "source": [
    "NFFT = 512\n",
    "mag_frames = np.absolute(np.fft.rfft(frames, NFFT))  # Magnitude of the FFT\n",
    "pow_frames = ((1.0 / NFFT) * ((mag_frames) ** 2))  # Power Spectrum\n",
    "\n",
    "print mag_frames\n",
    "print pow_frames"
   ]
  },
  {
   "cell_type": "markdown",
   "metadata": {},
   "source": [
    "## FILTER BANK "
   ]
  },
  {
   "cell_type": "code",
   "execution_count": 43,
   "metadata": {},
   "outputs": [
    {
     "name": "stdout",
     "output_type": "stream",
     "text": [
      "[73.018004373663857, 69.075593351359458, 73.609446134996844, 74.446726844832796, 78.199612332993453, 76.990398776287662, 74.125777500295925, 78.238411223548752, 78.692659596020846, 78.307115791441944, 76.698374326910582, 76.541919617557141, 79.116862956955543, 78.170641376593537, 79.510822305029464, 81.760304470588693, 76.468310505002151, 78.792269450519896, 82.296684227820947, 80.961582787496255]\n"
     ]
    },
    {
     "data": {
      "text/html": [
       "<div>\n",
       "<table border=\"1\" class=\"dataframe\">\n",
       "  <thead>\n",
       "    <tr style=\"text-align: right;\">\n",
       "      <th></th>\n",
       "      <th>0</th>\n",
       "      <th>1</th>\n",
       "      <th>2</th>\n",
       "      <th>3</th>\n",
       "      <th>4</th>\n",
       "      <th>5</th>\n",
       "      <th>6</th>\n",
       "      <th>7</th>\n",
       "      <th>8</th>\n",
       "      <th>9</th>\n",
       "      <th>10</th>\n",
       "      <th>11</th>\n",
       "      <th>12</th>\n",
       "      <th>13</th>\n",
       "      <th>14</th>\n",
       "      <th>15</th>\n",
       "      <th>16</th>\n",
       "      <th>17</th>\n",
       "      <th>18</th>\n",
       "      <th>19</th>\n",
       "    </tr>\n",
       "  </thead>\n",
       "  <tbody>\n",
       "    <tr>\n",
       "      <th>0</th>\n",
       "      <td>73.018004</td>\n",
       "      <td>69.075593</td>\n",
       "      <td>73.609446</td>\n",
       "      <td>74.446727</td>\n",
       "      <td>78.199612</td>\n",
       "      <td>76.990399</td>\n",
       "      <td>74.125778</td>\n",
       "      <td>78.238411</td>\n",
       "      <td>78.69266</td>\n",
       "      <td>78.307116</td>\n",
       "      <td>76.698374</td>\n",
       "      <td>76.54192</td>\n",
       "      <td>79.116863</td>\n",
       "      <td>78.170641</td>\n",
       "      <td>79.510822</td>\n",
       "      <td>81.760304</td>\n",
       "      <td>76.468311</td>\n",
       "      <td>78.792269</td>\n",
       "      <td>82.296684</td>\n",
       "      <td>80.961583</td>\n",
       "    </tr>\n",
       "  </tbody>\n",
       "</table>\n",
       "</div>"
      ],
      "text/plain": [
       "          0          1          2          3          4          5   \\\n",
       "0  73.018004  69.075593  73.609446  74.446727  78.199612  76.990399   \n",
       "\n",
       "          6          7         8          9          10        11         12  \\\n",
       "0  74.125778  78.238411  78.69266  78.307116  76.698374  76.54192  79.116863   \n",
       "\n",
       "          13         14         15         16         17         18         19  \n",
       "0  78.170641  79.510822  81.760304  76.468311  78.792269  82.296684  80.961583  "
      ]
     },
     "execution_count": 43,
     "metadata": {},
     "output_type": "execute_result"
    }
   ],
   "source": [
    "nfilt = 40\n",
    "\n",
    "low_freq_mel = 0\n",
    "high_freq_mel = (2595 * np.log10(1 + (sample_rate / 2) / 700))  # Convert Hz to Mel\n",
    "mel_points = np.linspace(low_freq_mel, high_freq_mel, nfilt + 2)  # Equally spaced in Mel scale\n",
    "hz_points = (700 * (10**(mel_points / 2595) - 1))  # Convert Mel to Hz\n",
    "bin = np.floor((NFFT + 1) * hz_points / sample_rate)\n",
    "\n",
    "fbank = np.zeros((nfilt, int(np.floor(NFFT / 2 + 1))))\n",
    "for m in range(1, nfilt + 1):\n",
    "    f_m_minus = int(bin[m - 1])   # left\n",
    "    f_m = int(bin[m])             # center\n",
    "    f_m_plus = int(bin[m + 1])    # right\n",
    "\n",
    "    for k in range(f_m_minus, f_m):\n",
    "        fbank[m - 1, k] = (k - bin[m - 1]) / (bin[m] - bin[m - 1])\n",
    "    for k in range(f_m, f_m_plus):\n",
    "        fbank[m - 1, k] = (bin[m + 1] - k) / (bin[m + 1] - bin[m])\n",
    "filter_banks = np.dot(pow_frames, fbank.T)\n",
    "filter_banks = np.where(filter_banks == 0, np.finfo(float).eps, filter_banks)  # Numerical Stability\n",
    "filter_banks = 20 * np.log10(filter_banks)\n",
    "\n",
    "tb=[]\n",
    "for i in range (20):#jika mengikuti dengan mcc\n",
    "    tb.append(np.mean(filter_banks[i]))\n",
    "print tb\n",
    "pd.DataFrame(tb).T"
   ]
  },
  {
   "cell_type": "markdown",
   "metadata": {},
   "source": [
    "## LPC "
   ]
  },
  {
   "cell_type": "code",
   "execution_count": null,
   "metadata": {
    "collapsed": true
   },
   "outputs": [],
   "source": []
  },
  {
   "cell_type": "markdown",
   "metadata": {},
   "source": [
    "## FFT"
   ]
  },
  {
   "cell_type": "code",
   "execution_count": 15,
   "metadata": {},
   "outputs": [
    {
     "name": "stdout",
     "output_type": "stream",
     "text": [
      "[ -1 -22 -29 ..., -22 -18 -18]\n",
      "[ 1153  1198  1204 ..., -2248 -2157 -2233]\n",
      "[ 1153  1198  1204 ..., -2248 -2157 -2233]\n",
      "[ 1153  1198  1204 ..., -2248 -2157 -2233]\n",
      "[ 1153  1198  1204 ..., -2248 -2157 -2233]\n"
     ]
    }
   ],
   "source": [
    "from scipy import fftpack\n",
    "for file_name in glob(full_path):\n",
    "    sample_rate, samples = scipy.io.wavfile.read(file_name) # masih belum selesai\n",
    "    sample_freq=fftpack.fftfreq(sample_rate)\n",
    "    print samples"
   ]
  },
  {
   "cell_type": "code",
   "execution_count": null,
   "metadata": {
    "collapsed": true
   },
   "outputs": [],
   "source": [
    "from scipy.fft import "
   ]
  },
  {
   "cell_type": "markdown",
   "metadata": {},
   "source": [
    "## STATISTIC "
   ]
  },
  {
   "cell_type": "markdown",
   "metadata": {},
   "source": [
    "- High Frequency Energy\n",
    "- F0 Mean\n",
    "- F0 range\n",
    "- Speech and articulation rate\n",
    "- Prosody\n",
    "- Formants\n",
    "- HNR"
   ]
  },
  {
   "cell_type": "code",
   "execution_count": null,
   "metadata": {
    "collapsed": true
   },
   "outputs": [],
   "source": []
  },
  {
   "cell_type": "code",
   "execution_count": null,
   "metadata": {
    "collapsed": true
   },
   "outputs": [],
   "source": []
  },
  {
   "cell_type": "markdown",
   "metadata": {},
   "source": [
    "## Classification "
   ]
  },
  {
   "cell_type": "code",
   "execution_count": 115,
   "metadata": {},
   "outputs": [
    {
     "name": "stdout",
     "output_type": "stream",
     "text": [
      "Accuracy Score:\n"
     ]
    },
    {
     "data": {
      "text/plain": [
       "array(['No'], dtype=object)"
      ]
     },
     "execution_count": 115,
     "metadata": {},
     "output_type": "execute_result"
    }
   ],
   "source": [
    "from sklearn.svm import SVC\n",
    "from sklearn import metrics\n",
    "clf=SVC() #Default hyperparameters\n",
    "clf.fit(ukuran.iloc[:4,:-1],ukuran['class'][:4])\n",
    "y_pred=clf.predict(ukuran.iloc[4:,:-1])\n",
    "print('Accuracy Score:')\n",
    "#print(metrics.accuracy_score(y_test,y_pred))\n",
    "y_pred"
   ]
  },
  {
   "cell_type": "code",
   "execution_count": null,
   "metadata": {
    "collapsed": true
   },
   "outputs": [],
   "source": [
    "# main()"
   ]
  }
 ],
 "metadata": {
  "kernelspec": {
   "display_name": "Python 2",
   "language": "python",
   "name": "python2"
  },
  "language_info": {
   "codemirror_mode": {
    "name": "ipython",
    "version": 2
   },
   "file_extension": ".py",
   "mimetype": "text/x-python",
   "name": "python",
   "nbconvert_exporter": "python",
   "pygments_lexer": "ipython2",
   "version": "2.7.12"
  }
 },
 "nbformat": 4,
 "nbformat_minor": 2
}
